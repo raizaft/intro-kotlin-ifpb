{
 "cells": [
  {
   "cell_type": "markdown",
   "source": [
    "# Construtores\n",
    "Este documento foi desenvolvido pelos seguintes alunos de TSI do IFPB, sob supervisão do professor Gustavo Wagner (2024.1):\n",
    "1. Caio André\n",
    "2. Cayo Bruno\n",
    "3. Clodoaldo dos Santos\n",
    "4. Gustavo Nascimento\n",
    "5. Peter Simon\n",
    "6. João Marcos\n",
    "Atualizações\n",
    "7. Luis Kilmer\n",
    "8. Raíza Andrade\n",
    "\n",
    "### O que é um construtor?\n",
    "Um construtor é um tipo especial de método em uma classe que é usado para inicializar objetos dessa classe. Ele define como um objeto deve ser criado e inicializado quando é instanciado. Em outras palavras, **o construtor é responsável por definir o estado inicial de um objeto e executar quaisquer operações necessárias durante a inicialização**.\n",
    "\n",
    "Uma classe em Kotlin possui um construtor primário e possivelmente um ou mais construtores secundários. O construtor primário é declarado no cabeçalho da classe, e ele vai após o nome da classe e dos parâmetros de tipo opcionais."
   ],
   "metadata": {
    "collapsed": false
   }
  },
  {
   "cell_type": "code",
   "outputs": [],
   "source": [
    "class Pessoa constructor(primeiroNome: String) { }"
   ],
   "metadata": {
    "collapsed": false,
    "is_executing": true
   },
   "execution_count": null
  },
  {
   "cell_type": "markdown",
   "source": [
    "Se o construtor primário não tiver anotações ou modificadores de visibilidade, a palavra-chave `constructor` pode ser omitida:"
   ],
   "metadata": {
    "collapsed": false
   }
  },
  {
   "cell_type": "code",
   "outputs": [],
   "source": [
    "class Pessoa(primeiroNome: String) { }"
   ],
   "metadata": {
    "collapsed": false
   },
   "execution_count": null
  },
  {
   "cell_type": "markdown",
   "source": [
    "O construtor primário é responsável por inicializar uma instância da classe e suas propriedades, e ele não pode conter código executável. Para executar código durante a criação do objeto, podemos usar blocos inicializadores dentro do corpo da classe. Esses blocos são declarados com a palavra-chave `init` seguida de chaves e podem conter qualquer código desejado.\n",
    "\n",
    "Por exemplo, podemos ter uma classe DemoOrdemDeInicializacao que demonstra a ordem de execução dos blocos inicializadores e inicializadores de propriedades:"
   ],
   "metadata": {
    "collapsed": false
   }
  },
  {
   "cell_type": "code",
   "source": [
    "class DemoOrdemDeInicializacao(nome: String) {\n",
    "    val primeiraPropriedade = \"Primeira propriedade: $nome\".also {println(it)}\n",
    "    \n",
    "    init {\n",
    "        println(\"Primeiro bloco inicializador que imprime $nome\")\n",
    "    }\n",
    "    \n",
    "    val segundaPropriedade = \"Segunda propriedade: ${nome.length}\".also {println(it)}\n",
    "    \n",
    "    init {\n",
    "        println(\"Segundo bloco inicializador que imprime ${nome.length}\")\n",
    "    }\n",
    "}\n",
    "\n",
    "val objeto = DemoOrdemDeInicializacao(\"Raiza\")"
   ],
   "metadata": {
    "collapsed": false,
    "ExecuteTime": {
     "end_time": "2024-11-08T13:47:37.031723500Z",
     "start_time": "2024-11-08T13:47:36.937375500Z"
    }
   },
   "outputs": [
    {
     "name": "stdout",
     "output_type": "stream",
     "text": [
      "Primeira propriedade: Raiza\r\n",
      "Primeiro bloco inicializador que imprime Raiza\r\n",
      "Segunda propriedade: 5\r\n",
      "Segundo bloco inicializador que imprime 5\r\n"
     ]
    }
   ],
   "execution_count": 25
  },
  {
   "cell_type": "markdown",
   "source": "Os parâmetros do construtor primário podem ser usados nos inicializadores de propriedades e no bloco init, como no exemplo da classe `Cliente`.",
   "metadata": {
    "collapsed": false
   }
  },
  {
   "cell_type": "code",
   "source": [
    "class Cliente(nome: String) {\n",
    "    val chaveCliente = nome.uppercase()\n",
    "}\n",
    "\n",
    "val cliente = Cliente(\"raiza\")\n",
    "print(cliente.chaveCliente)"
   ],
   "metadata": {
    "collapsed": false,
    "ExecuteTime": {
     "end_time": "2024-11-08T13:48:54.681411200Z",
     "start_time": "2024-11-08T13:48:54.625412400Z"
    }
   },
   "outputs": [
    {
     "name": "stdout",
     "output_type": "stream",
     "text": [
      "RAIZA"
     ]
    }
   ],
   "execution_count": 29
  },
  {
   "cell_type": "markdown",
   "source": "Kotlin tem a vantagem de oferecer uma sintaxe concisa para declarar propriedades e inicializá-las a partir do construtor primário e assim como as propriedades regulares, as propriedades declaradas no construtor primário podem ser mutáveis `(var)`ou somente leitura `(val)`. Como mostrado na classe `Pessoa` abaixo:",
   "metadata": {
    "collapsed": false
   }
  },
  {
   "cell_type": "code",
   "outputs": [],
   "source": [
    "class Pessoa(val primeiroNome: String, val sobrenome: String, var idade: Int)"
   ],
   "metadata": {
    "collapsed": false
   },
   "execution_count": null
  },
  {
   "cell_type": "markdown",
   "source": [
    "Essa declaração também pode incluir valores padrão para as propriedades da classe:"
   ],
   "metadata": {
    "collapsed": false
   }
  },
  {
   "cell_type": "code",
   "outputs": [],
   "source": [
    "class Pessoa(val primeiroNome: String, val sobrenome: String, var estaEmpregado: Boolean = true)"
   ],
   "metadata": {
    "collapsed": false
   },
   "execution_count": null
  },
  {
   "cell_type": "markdown",
   "source": "É possível usar uma vírgula final ao declarar propriedades da classe,o que pode ser útil para manter o código organizado, especialmente em listas longas ou quando novas propriedades podem ser adicionadas.",
   "metadata": {
    "collapsed": false
   }
  },
  {
   "cell_type": "code",
   "source": [
    "class Pessoa(\n",
    "    val primeiroNome: String,\n",
    "    val sobrenome: String,\n",
    "    var idade: Int, // vírgula final\n",
    ") { }"
   ],
   "metadata": {
    "collapsed": false,
    "ExecuteTime": {
     "end_time": "2024-11-07T17:15:25.043781600Z",
     "start_time": "2024-11-07T17:15:24.970093200Z"
    }
   },
   "outputs": [],
   "execution_count": 7
  },
  {
   "cell_type": "markdown",
   "source": [
    "\n",
    "\n",
    "Se o construtor tiver anotações ou modificadores de visibilidade, a palavra-chave constructor é necessária e os modificadores vêm antes dela:"
   ],
   "metadata": {
    "collapsed": false
   }
  },
  {
   "cell_type": "code",
   "source": [
    "class Cliente public @Inject constructor(nome: String) {  }"
   ],
   "metadata": {
    "collapsed": false,
    "ExecuteTime": {
     "end_time": "2024-11-07T17:15:56.059639800Z",
     "start_time": "2024-11-07T17:15:55.933580100Z"
    }
   },
   "outputs": [
    {
     "ename": "org.jetbrains.kotlinx.jupyter.exceptions.ReplCompilerException",
     "evalue": "at Cell In[8], line 1, column 23: Unresolved reference: Inject\nat Cell In[8], line 1, column 42: Parameter 'nome' is never used",
     "output_type": "error",
     "traceback": [
      "org.jetbrains.kotlinx.jupyter.exceptions.ReplCompilerException: at Cell In[8], line 1, column 23: Unresolved reference: Inject",
      "at Cell In[8], line 1, column 42: Parameter 'nome' is never used",
      "\tat org.jetbrains.kotlinx.jupyter.repl.impl.JupyterCompilerImpl.compileSync(JupyterCompilerImpl.kt:208)",
      "\tat org.jetbrains.kotlinx.jupyter.repl.impl.InternalEvaluatorImpl.eval(InternalEvaluatorImpl.kt:126)",
      "\tat org.jetbrains.kotlinx.jupyter.repl.impl.CellExecutorImpl$execute$1$result$1.invoke(CellExecutorImpl.kt:80)",
      "\tat org.jetbrains.kotlinx.jupyter.repl.impl.CellExecutorImpl$execute$1$result$1.invoke(CellExecutorImpl.kt:78)",
      "\tat org.jetbrains.kotlinx.jupyter.repl.impl.ReplForJupyterImpl.withHost(ReplForJupyterImpl.kt:742)",
      "\tat org.jetbrains.kotlinx.jupyter.repl.impl.CellExecutorImpl.execute-L4Nmkdk(CellExecutorImpl.kt:78)",
      "\tat org.jetbrains.kotlinx.jupyter.repl.execution.CellExecutor$DefaultImpls.execute-L4Nmkdk$default(CellExecutor.kt:13)",
      "\tat org.jetbrains.kotlinx.jupyter.repl.impl.ReplForJupyterImpl.evaluateUserCode-wNURfNM(ReplForJupyterImpl.kt:565)",
      "\tat org.jetbrains.kotlinx.jupyter.repl.impl.ReplForJupyterImpl.evalExImpl(ReplForJupyterImpl.kt:423)",
      "\tat org.jetbrains.kotlinx.jupyter.repl.impl.ReplForJupyterImpl.access$evalExImpl(ReplForJupyterImpl.kt:139)",
      "\tat org.jetbrains.kotlinx.jupyter.repl.impl.ReplForJupyterImpl$evalEx$1.invoke(ReplForJupyterImpl.kt:416)",
      "\tat org.jetbrains.kotlinx.jupyter.repl.impl.ReplForJupyterImpl$evalEx$1.invoke(ReplForJupyterImpl.kt:415)",
      "\tat org.jetbrains.kotlinx.jupyter.repl.impl.ReplForJupyterImpl.withEvalContext(ReplForJupyterImpl.kt:396)",
      "\tat org.jetbrains.kotlinx.jupyter.repl.impl.ReplForJupyterImpl.evalEx(ReplForJupyterImpl.kt:415)",
      "\tat org.jetbrains.kotlinx.jupyter.messaging.IdeCompatibleMessageRequestProcessor$processExecuteRequest$1$response$1$1.invoke(IdeCompatibleMessageRequestProcessor.kt:170)",
      "\tat org.jetbrains.kotlinx.jupyter.messaging.IdeCompatibleMessageRequestProcessor$processExecuteRequest$1$response$1$1.invoke(IdeCompatibleMessageRequestProcessor.kt:169)",
      "\tat org.jetbrains.kotlinx.jupyter.streams.BlockingSubstitutionEngine.withDataSubstitution(SubstitutionEngine.kt:70)",
      "\tat org.jetbrains.kotlinx.jupyter.streams.StreamSubstitutionManager.withSubstitutedStreams(StreamSubstitutionManager.kt:118)",
      "\tat org.jetbrains.kotlinx.jupyter.messaging.IdeCompatibleMessageRequestProcessor.withForkedIn(IdeCompatibleMessageRequestProcessor.kt:342)",
      "\tat org.jetbrains.kotlinx.jupyter.messaging.IdeCompatibleMessageRequestProcessor.access$withForkedIn(IdeCompatibleMessageRequestProcessor.kt:66)",
      "\tat org.jetbrains.kotlinx.jupyter.messaging.IdeCompatibleMessageRequestProcessor$evalWithIO$1$1.invoke(IdeCompatibleMessageRequestProcessor.kt:356)",
      "\tat org.jetbrains.kotlinx.jupyter.streams.BlockingSubstitutionEngine.withDataSubstitution(SubstitutionEngine.kt:70)",
      "\tat org.jetbrains.kotlinx.jupyter.streams.StreamSubstitutionManager.withSubstitutedStreams(StreamSubstitutionManager.kt:118)",
      "\tat org.jetbrains.kotlinx.jupyter.messaging.IdeCompatibleMessageRequestProcessor.withForkedErr(IdeCompatibleMessageRequestProcessor.kt:331)",
      "\tat org.jetbrains.kotlinx.jupyter.messaging.IdeCompatibleMessageRequestProcessor.access$withForkedErr(IdeCompatibleMessageRequestProcessor.kt:66)",
      "\tat org.jetbrains.kotlinx.jupyter.messaging.IdeCompatibleMessageRequestProcessor$evalWithIO$1.invoke(IdeCompatibleMessageRequestProcessor.kt:355)",
      "\tat org.jetbrains.kotlinx.jupyter.streams.BlockingSubstitutionEngine.withDataSubstitution(SubstitutionEngine.kt:70)",
      "\tat org.jetbrains.kotlinx.jupyter.streams.StreamSubstitutionManager.withSubstitutedStreams(StreamSubstitutionManager.kt:118)",
      "\tat org.jetbrains.kotlinx.jupyter.messaging.IdeCompatibleMessageRequestProcessor.withForkedOut(IdeCompatibleMessageRequestProcessor.kt:323)",
      "\tat org.jetbrains.kotlinx.jupyter.messaging.IdeCompatibleMessageRequestProcessor.evalWithIO(IdeCompatibleMessageRequestProcessor.kt:354)",
      "\tat org.jetbrains.kotlinx.jupyter.messaging.IdeCompatibleMessageRequestProcessor$processExecuteRequest$1$response$1.invoke(IdeCompatibleMessageRequestProcessor.kt:169)",
      "\tat org.jetbrains.kotlinx.jupyter.messaging.IdeCompatibleMessageRequestProcessor$processExecuteRequest$1$response$1.invoke(IdeCompatibleMessageRequestProcessor.kt:168)",
      "\tat org.jetbrains.kotlinx.jupyter.execution.JupyterExecutorImpl$Task.execute(JupyterExecutorImpl.kt:41)",
      "\tat org.jetbrains.kotlinx.jupyter.execution.JupyterExecutorImpl$executorThread$1.invoke(JupyterExecutorImpl.kt:81)",
      "\tat org.jetbrains.kotlinx.jupyter.execution.JupyterExecutorImpl$executorThread$1.invoke(JupyterExecutorImpl.kt:79)",
      "\tat kotlin.concurrent.ThreadsKt$thread$thread$1.run(Thread.kt:30)",
      ""
     ]
    }
   ],
   "execution_count": 8
  },
  {
   "cell_type": "markdown",
   "source": [],
   "metadata": {
    "collapsed": false
   }
  },
  {
   "cell_type": "markdown",
   "source": [
    "### Construtor Secundário\n",
    "\n",
    "Além do construtor primário, uma classe em Kotlin pode ter construtores secundários. Esses construtores são prefixados com a palavra-chave `constructor` e podem ser usados para fornecer diferentes formas de inicialização da classe.\n",
    "\n",
    "Exemplo de uma classe sem construtor primário, mas com construtores secundários:"
   ],
   "metadata": {
    "collapsed": false
   }
  },
  {
   "metadata": {
    "ExecuteTime": {
     "end_time": "2024-11-08T13:52:01.807583500Z",
     "start_time": "2024-11-08T13:52:01.741801800Z"
    }
   },
   "cell_type": "code",
   "source": [
    "class Cliente {\n",
    "    val nome: String\n",
    "    val idade: Int\n",
    "\n",
    "    // Construtor secundário\n",
    "    constructor(nome: String) {\n",
    "        this.nome = nome\n",
    "        this.idade = 18 // idade padrão\n",
    "    }\n",
    "\n",
    "    // Outro construtor secundário\n",
    "    constructor(nome: String, idade: Int) {\n",
    "        this.nome = nome\n",
    "        this.idade = idade\n",
    "    }\n",
    "}\n",
    "\n",
    "val cliente1 = Cliente(\"Maria\")\n",
    "val cliente2 = Cliente(\"Joana\", 30)\n",
    "println(\"Nome: ${cliente1.nome}, Idade: ${cliente1.idade}\")\n",
    "println(\"Nome: ${cliente2.nome}, Idade: ${cliente2.idade}\")"
   ],
   "outputs": [
    {
     "name": "stdout",
     "output_type": "stream",
     "text": [
      "Nome: Maria, Idade: 18\r\n",
      "Nome: Joana, Idade: 30\r\n"
     ]
    }
   ],
   "execution_count": 34
  },
  {
   "metadata": {},
   "cell_type": "markdown",
   "source": "Uso de construtores secundários para realizar operações mais complexas durante a criação do objeto, além de apenas inicializar valores: uma classe `Animal` com um construtor secundário que recebe o dono do animal (`Pessoa`) e adiciona o animal à lista de animais de estimação dessa `Pessoa`:"
  },
  {
   "cell_type": "code",
   "source": [
    "class Pessoa {\n",
    "    val pets: MutableList<Animal> = mutableListOf()\n",
    "}\n",
    "\n",
    "class Animal {\n",
    "    constructor(dono: Pessoa) {\n",
    "        dono.pets.add(this) // adiciona este animal à lista de animais de estimação do seu dono\n",
    "    }\n",
    "}\n",
    "val pessoa = Pessoa()\n",
    "\n",
    "// Visualização\n",
    "val animal1 = Animal(pessoa)\n",
    "val animal2 = Animal(pessoa)\n",
    "println(\"A pessoa tem ${pessoa.pets.size} pets.\")"
   ],
   "metadata": {
    "collapsed": false,
    "ExecuteTime": {
     "end_time": "2024-11-08T13:54:06.692184800Z",
     "start_time": "2024-11-08T13:54:06.603696Z"
    }
   },
   "outputs": [
    {
     "name": "stdout",
     "output_type": "stream",
     "text": [
      "A pessoa tem 2 pets.\r\n"
     ]
    }
   ],
   "execution_count": 39
  },
  {
   "metadata": {},
   "cell_type": "markdown",
   "source": [
    "Em Kotlin, construtores secundários precisam delegar a sua execução para o construtor primário. Isso significa que, ao criar uma instância de uma classe usando um construtor secundário, o construtor secundário deve chamar o construtor primário para inicializar os valores da classe.\n",
    "\n",
    "A delegação pode ser feita de duas maneiras:\n",
    "\n",
    "*- Diretamente:* O construtor secundário chama o construtor primário diretamente usando a palavra-chave `this()`.\n",
    "\n",
    "*- Indiretamente:* O construtor secundário chama outro construtor secundário que, por sua vez, chama o construtor primário."
   ]
  },
  {
   "cell_type": "code",
   "outputs": [],
   "source": [
    "class Cliente(val nome: String, val idade: Int) {\n",
    "    \n",
    "    // Construtor secundário que delega para o primário\n",
    "    constructor(nome: String) : this(nome, 18) { }\n",
    "    // A idade será definida como 18\n",
    "}"
   ],
   "metadata": {
    "collapsed": false
   },
   "execution_count": null
  },
  {
   "cell_type": "markdown",
   "source": "Se houver blocos inicializadores (`init`), o código nesses blocos é executado antes do corpo do construtor secundário, e a delegação para o construtor primário ocorre quando a primeira instrução do construtor secundário é acessada. Mesmo que a classe não tenha um construtor primário explícito, a delegação ainda pode ocorrer implicitamente:",
   "metadata": {
    "collapsed": false
   }
  },
  {
   "cell_type": "code",
   "source": [
    "class Construtores {\n",
    "    init {\n",
    "        println(\"Bloco init\")\n",
    "    }\n",
    "\n",
    "    constructor(i: Int) {\n",
    "        println(\"Construtor $i\")\n",
    "    }\n",
    "}\n",
    "val obj = Construtores(5)"
   ],
   "metadata": {
    "collapsed": false,
    "ExecuteTime": {
     "end_time": "2024-11-08T13:54:26.122069300Z",
     "start_time": "2024-11-08T13:54:26.066180600Z"
    }
   },
   "outputs": [
    {
     "name": "stdout",
     "output_type": "stream",
     "text": [
      "Bloco init\r\n",
      "Construtor 5\r\n"
     ]
    }
   ],
   "execution_count": 40
  },
  {
   "cell_type": "markdown",
   "source": [
    "Se uma classe não abstrata não declarar nenhum construtor (primário ou secundário), ela terá um construtor primário gerado com nenhum argumento e visibilidade pública.\n",
    "\n",
    "Para evitar que uma classe tenha um construtor público, é possível declarar um construtor primário vazio com visibilidade não padrão, como mostrado na classe `NaoCrieMe`:"
   ],
   "metadata": {
    "collapsed": false
   }
  },
  {
   "cell_type": "code",
   "outputs": [],
   "source": [
    "class NaoCrieMe private constructor() {  }"
   ],
   "metadata": {
    "collapsed": false
   },
   "execution_count": null
  },
  {
   "cell_type": "markdown",
   "source": "No JVM, se todos os parâmetros do construtor primário tiverem valores padrão, o compilador gerará um construtor adicional sem parâmetros, o que facilita a interoperabilidade com bibliotecas como **Jackson** ou **JPA**, que geralmente exigem construtores sem parâmetros:",
   "metadata": {
    "collapsed": false
   }
  },
  {
   "cell_type": "code",
   "outputs": [],
   "source": [
    "class Cliente(val nomeCliente: String = \"\")"
   ],
   "metadata": {
    "collapsed": false
   },
   "execution_count": null
  },
  {
   "cell_type": "markdown",
   "source": [
    "### Criando Instâncias de classes\n",
    "Para criar uma instância de uma classe, chame o construtor como se fosse uma função regular:"
   ],
   "metadata": {
    "collapsed": false
   }
  },
  {
   "cell_type": "code",
   "outputs": [],
   "source": [
    "val fatura = Fatura()\n",
    "\n",
    "val cliente = Cliente(\"João Silva\")"
   ],
   "metadata": {
    "collapsed": false
   },
   "execution_count": null
  },
  {
   "cell_type": "markdown",
   "source": "**OBS:** Kotlin não possui a palavra-chave `new`, o que torna a criação de instâncias mais simples e direta, utilizando apenas o nome da classe e parênteses para passar parâmetros.",
   "metadata": {
    "collapsed": false
   }
  },
  {
   "cell_type": "markdown",
   "source": [
    "# Bloco init\n",
    "\n",
    "Em Kotlin, você pode criar uma classe com um bloco de inicialização usando a palavra-chave `init`. O bloco `init` é executado assim que uma instância da classe é criada."
   ],
   "metadata": {
    "collapsed": false
   }
  },
  {
   "cell_type": "code",
   "source": [
    "class MinhaClasse {\n",
    "    var nome: String\n",
    "    var idade: Int\n",
    "\n",
    "    // Bloco de inicialização\n",
    "    init {\n",
    "        nome = \"João\"\n",
    "        idade = 30\n",
    "        println(\"Objeto criado com nome $nome e idade $idade\") // Objeto criado com nome João e idade 30\n",
    "    }\n",
    "\n",
    "    fun mostrarInfo() {\n",
    "        println(\"Nome: $nome, Idade: $idade\") // Nome: João, Idade: 30\n",
    "    }\n",
    "}\n",
    "\n",
    "val objeto = MinhaClasse() // Objeto criado com nome João e idade 30\n",
    "objeto.mostrarInfo() // Nome: João, Idade: 30"
   ],
   "metadata": {
    "collapsed": false,
    "ExecuteTime": {
     "end_time": "2024-11-08T13:37:55.502709200Z",
     "start_time": "2024-11-08T13:37:55.377377300Z"
    }
   },
   "outputs": [
    {
     "name": "stdout",
     "output_type": "stream",
     "text": [
      "Objeto criado com nome João e idade 30\r\n",
      "Nome: João, Idade: 30\r\n"
     ]
    }
   ],
   "execution_count": 9
  },
  {
   "cell_type": "markdown",
   "source": [
    "O bloco `init` em Kotlin é uma maneira de executar código de inicialização quando uma instância de uma classe é criada. Ele é útil para realizar a lógica de inicialização necessária antes que qualquer outra operação seja realizada no objeto.\n",
    "\n",
    "### Algumas características importantes do bloco `init`:\n",
    "\n",
    "\n",
    "**1. Executado automaticamente:** O bloco `init` é executado automaticamente assim que uma instância da classe é criada, sem necessidade de ser chamado explicitamente."
   ],
   "metadata": {
    "collapsed": false
   }
  },
  {
   "metadata": {
    "collapsed": false,
    "ExecuteTime": {
     "end_time": "2024-11-08T13:55:16.496314300Z",
     "start_time": "2024-11-08T13:55:16.445038200Z"
    }
   },
   "cell_type": "code",
   "source": [
    "class ExemploClasse {\n",
    "    init {\n",
    "        println(\"Bloco init foi executado automaticamente!\")\n",
    "    }\n",
    "}\n",
    "\n",
    "val exemplo = ExemploClasse() // Ao criar uma instância da classe, o bloco init é executado automaticamente"
   ],
   "outputs": [
    {
     "name": "stdout",
     "output_type": "stream",
     "text": [
      "Bloco init foi executado automaticamente!\r\n"
     ]
    }
   ],
   "execution_count": 41
  },
  {
   "cell_type": "markdown",
   "source": "**2. Acesso a propriedades e métodos da classe:** Dentro do bloco `init`, você tem acesso total às propriedades e métodos da classe, pois ele faz parte do contexto da classe.",
   "metadata": {
    "collapsed": false
   }
  },
  {
   "cell_type": "code",
   "source": [
    "class Pessoa(val nome: String, val idade: Int) {\n",
    "    init {\n",
    "        println(\"Inicializando pessoa com nome $nome e idade $idade\") \n",
    "        saudacao() // Chamando um método da classe dentro do bloco init\n",
    "    }\n",
    "\n",
    "    fun saudacao() {\n",
    "        println(\"Olá, meu nome é $nome e eu tenho $idade anos.\")\n",
    "    }\n",
    "}\n",
    "\n",
    "val pessoa = Pessoa(\"Maria\", 30)"
   ],
   "metadata": {
    "collapsed": false,
    "ExecuteTime": {
     "end_time": "2024-11-08T13:55:29.642918Z",
     "start_time": "2024-11-08T13:55:29.582916600Z"
    }
   },
   "outputs": [
    {
     "name": "stdout",
     "output_type": "stream",
     "text": [
      "Inicializando pessoa com nome Maria e idade 30\r\n",
      "Olá, meu nome é Maria e eu tenho 30 anos.\r\n"
     ]
    }
   ],
   "execution_count": 42
  },
  {
   "cell_type": "markdown",
   "source": "**3. Pode haver vários blocos `init`:** Você pode ter vários blocos `init` em uma classe e eles serão executados na ordem em que são definidos na classe.\n",
   "metadata": {
    "collapsed": false
   }
  },
  {
   "cell_type": "code",
   "source": [
    "class Blocos(val valor: Int) {\n",
    "    init {\n",
    "        println(\"Inicializando primeira parte...\") // Primeiro bloco init\n",
    "    }\n",
    "\n",
    "    init {\n",
    "        println(\"Inicializando segunda parte...\") // Segundo bloco init\n",
    "    }\n",
    "\n",
    "    init {\n",
    "        println(\"Inicializando terceira parte...\") // Terceiro bloco init\n",
    "        println(\"O valor é: $valor\") // Imprime o valor passado como argumento\n",
    "    }\n",
    "}\n",
    "\n",
    "val exemplo = Blocos(5) // Cria uma instância da classe ExemploClasse com valor 5"
   ],
   "metadata": {
    "collapsed": false,
    "ExecuteTime": {
     "end_time": "2024-11-08T13:58:44.712945700Z",
     "start_time": "2024-11-08T13:58:44.646939700Z"
    }
   },
   "outputs": [
    {
     "name": "stdout",
     "output_type": "stream",
     "text": [
      "Inicializando primeira parte...\r\n",
      "Inicializando segunda parte...\r\n",
      "Inicializando terceira parte...\r\n",
      "O valor é: 5\r\n"
     ]
    }
   ],
   "execution_count": 54
  },
  {
   "cell_type": "markdown",
   "source": [
    "**4. Ordem de execução:** Os blocos `init` são executados na ordem em que são definidos na classe, antes de qualquer construtor secundário e antes de qualquer código dentro do corpo do construtor primário.\n",
    "**5. Flexibilidade de inicialização:** O bloco `init` permite uma grande flexibilidade na inicialização de objetos. Você pode usar lógica condicional, loops e quaisquer outras operações permitidas em Kotlin dentro do bloco init.\n"
   ],
   "metadata": {
    "collapsed": false
   }
  },
  {
   "cell_type": "code",
   "source": [
    "class Carro(val marca: String, val anoFabricacao: Int) {\n",
    "    val idade: Int\n",
    "\n",
    "    init {\n",
    "        val anoAtual = 2024 // Suponha que seja o ano atual\n",
    "        idade = anoAtual - anoFabricacao\n",
    "\n",
    "        if (idade <= 5) {\n",
    "            println(\"$marca é um carro novo.\")\n",
    "        } else {\n",
    "            println(\"$marca é um carro usado.\")\n",
    "        }\n",
    "    }\n",
    "}\n",
    "\n",
    "val carroNovo = Carro(\"Toyota\", 2022)\n",
    "val carroUsado = Carro(\"Ford\", 2017)"
   ],
   "metadata": {
    "collapsed": false,
    "ExecuteTime": {
     "end_time": "2024-11-08T13:59:36.033056100Z",
     "start_time": "2024-11-08T13:59:35.924979600Z"
    }
   },
   "outputs": [
    {
     "name": "stdout",
     "output_type": "stream",
     "text": [
      "Toyota é um carro novo.\r\n",
      "Ford é um carro usado.\r\n"
     ]
    }
   ],
   "execution_count": 56
  },
  {
   "cell_type": "markdown",
   "source": "**5. Melhora a legibilidade do código:** Usar o bloco `init` pode tornar o código mais legível, especialmente quando há uma lógica complexa de inicialização que precisa ser realizada.",
   "metadata": {
    "collapsed": false
   }
  },
  {
   "cell_type": "code",
   "source": [
    "class ExemploClasse3(val valor: Int) { // Define a classe ExemploClasse com uma propriedade 'valor'\n",
    "    val mensagem: String // Declara uma propriedade 'mensagem'\n",
    "\n",
    "    init {\n",
    "        println(\"Inicializando primeira parte...\") // Mensagem de inicialização para o primeiro bloco init\n",
    "\n",
    "\t//Acesso a propriedade da classe\n",
    "        mensagem = if (valor > 0) { // Verifica se o valor passado é positivo\n",
    "            \"Valor positivo\"\n",
    "        } else {\n",
    "            \"Valor não positivo\"\n",
    "        }\n",
    "\n",
    "\t//Acesso a método da classe\n",
    "        mostrarMensagem() // Mensagem: Valor positivo\n",
    "    }\n",
    "\n",
    "\t//Existência de vários blocos init.\n",
    "    init {\n",
    "        println(\"Inicializando segunda parte...\") // Mensagem de inicialização para o segundo bloco init\n",
    "        println(\"O valor é: $valor\") // O valor é: 5\n",
    "    }\n",
    "\n",
    "    fun mostrarMensagem() { // Define um método na classe para mostrar a mensagem\n",
    "        println(\"Mensagem: $mensagem\") // Imprime a mensagem\n",
    "    }\n",
    "}\n",
    "\n",
    "val exemplo = ExemploClasse3(5) // Cria uma instância da classe ExemploClasse com valor 5\n"
   ],
   "metadata": {
    "collapsed": false,
    "ExecuteTime": {
     "end_time": "2024-11-08T13:59:54.821943600Z",
     "start_time": "2024-11-08T13:59:54.727292900Z"
    }
   },
   "outputs": [
    {
     "name": "stdout",
     "output_type": "stream",
     "text": [
      "Inicializando primeira parte...\r\n",
      "Mensagem: Valor positivo\r\n",
      "Inicializando segunda parte...\r\n",
      "O valor é: 5\r\n"
     ]
    }
   ],
   "execution_count": 58
  },
  {
   "cell_type": "markdown",
   "source": [
    "Inicializando primeira parte...\n",
    "\n",
    "Mensagem: Valor positivo\n",
    "\n",
    "Inicializando segunda parte...\n",
    "\n",
    "O valor é: 5"
   ],
   "metadata": {
    "collapsed": false
   }
  },
  {
   "cell_type": "markdown",
   "source": [
    "# Herança em Kotlin\n",
    "\n",
    "### Introdução\n",
    "Em Kotlin, a herança é um conceito fundamental da orientação a objetos. Ela *permite que uma classe herde características e comportamentos de outra classe, conhecida como superclasse ou classe base*. Isso promove a reutilização de código e facilita a organização e extensão de funcionalidades em um programa.\n",
    "\n",
    "### Superclasse e Subclasse\n",
    "- **Superclasse**: Também conhecida como classe base, é a classe da qual outras classes herdam.\n",
    "- **Subclasse**: Também conhecida como classe derivada, é a classe que herda características e comportamentos da superclasse.\n",
    "\n",
    "### Declaração de Herança\n",
    "Em Kotlin, a declaração de herança é realizada usando a palavra-chave `open`. Uma classe que pode ser herdada deve ser marcada como `open` equivalente o `public` do Java."
   ],
   "metadata": {
    "collapsed": false
   }
  },
  {
   "cell_type": "code",
   "outputs": [],
   "source": [
    "open class Forma {}\n",
    "class Retângulo : Forma() {}"
   ],
   "metadata": {
    "collapsed": false
   },
   "execution_count": null
  },
  {
   "cell_type": "markdown",
   "source": [
    "### Sobrescrita de Métodos\n",
    "Para modificar o comportamento de um método na classe derivada, usamos a palavra-chave `override`."
   ],
   "metadata": {
    "collapsed": false
   }
  },
  {
   "cell_type": "code",
   "outputs": [],
   "source": [
    "open class Animal {\n",
    "    open fun fazerSom() { /* ... */\n",
    "    }\n",
    "}\n",
    "\n",
    "class Cachorro : Animal() {\n",
    "    override fun fazerSom() {\n",
    "        println(\"Au au!\")\n",
    "    }\n",
    "}\n",
    "class Gato : Animal() {\n",
    "    override fun fazerSom() {\n",
    "        println(\"Meow!\")\n",
    "    }\n",
    "}\n",
    "val dog : Cachorro = Cachorro();\n",
    "dog.fazerSom()"
   ],
   "metadata": {
    "collapsed": false
   },
   "execution_count": null
  },
  {
   "cell_type": "markdown",
   "source": [
    "### Sobrescrita de Propriedades\n",
    "O mecanismo de sobrescrita de propriedades em Kotlin funciona de forma semelhante ao mecanismo de sobrescrita de métodos. Propriedades declaradas em uma superclasse que são redeclaradas em uma classe derivada devem ser prefixadas com `override` e devem ter um tipo compatível. Cada propriedade declarada pode ser sobrescrita por uma propriedade com um inicializador ou por uma propriedade com um método `get`."
   ],
   "metadata": {
    "collapsed": false
   }
  },
  {
   "cell_type": "code",
   "outputs": [],
   "source": [
    "open class Forma {\n",
    "    open val quantidadeVertices: Int = 0\n",
    "}\n",
    "\n",
    "class Retângulo : Forma() {\n",
    "    override val quantidadeVertices = 4\n",
    "}"
   ],
   "metadata": {
    "collapsed": false
   },
   "execution_count": null
  },
  {
   "cell_type": "markdown",
   "source": [
    "### Chamando Métodos da Superclasse\n",
    "Para chamar um método da superclasse dentro de um método sobrescrito na subclasse, usamos `super`."
   ],
   "metadata": {
    "collapsed": false
   }
  },
  {
   "cell_type": "code",
   "source": [
    "open class Veiculo {\n",
    "    open fun mover() {\n",
    "        println(\"O veículo está se movendo.\")\n",
    "    }\n",
    "}\n",
    "\n",
    "class Carro : Veiculo() {\n",
    "    override fun mover() {\n",
    "        super.mover()\n",
    "        println(\"O carro está se movendo.\")\n",
    "    }\n",
    "}\n",
    "\n",
    "class Barco : Veiculo() {\n",
    "    override fun mover() {\n",
    "        println(\"O barco está navegando.\")\n",
    "    }\n",
    "}\n",
    "\n",
    "val barco = Barco()\n",
    "val carro = Carro()\n",
    "\n",
    "barco.mover()\n",
    "carro.mover() "
   ],
   "metadata": {
    "collapsed": false,
    "ExecuteTime": {
     "end_time": "2024-11-08T15:16:04.678094900Z",
     "start_time": "2024-11-08T15:16:04.215003100Z"
    }
   },
   "outputs": [
    {
     "name": "stdout",
     "output_type": "stream",
     "text": [
      "O barco está navegando.\r\n",
      "O veículo está se movendo.\r\n",
      "O carro está se movendo.\r\n"
     ]
    }
   ],
   "execution_count": 1
  },
  {
   "cell_type": "markdown",
   "source": [
    "# Polimorfismo\n",
    "O polimorfismo é um dos conceitos fundamentais da programação orientada a objetos. Em Kotlin, esse conceito é implementado através de mecanismos como herança e interfaces, permitindo que objetos de diferentes classes sejam tratados de forma uniforme.\n",
    "\n",
    "### Utilizando Polimorfismo\n",
    "Com o conceito de polimorfismo, podemos tratar objetos de classes derivadas de forma genérica, mesmo que sejam de tipos diferentes. Isso é possível devido à capacidade de Kotlin de selecionar o método apropriado em tempo de execução, dependendo do tipo real do objeto."
   ],
   "metadata": {
    "collapsed": false
   }
  },
  {
   "cell_type": "code",
   "source": [
    "fun WhatIsMe(animal: Animal) {\n",
    "    println(\"${animal::class.simpleName} says: \")\n",
    "    animal.fazerSom()\n",
    "}\n",
    "\n",
    "class Dog : Animal(){}\n",
    "class Cat : Animal(){}\n",
    "\n",
    "val dog = Cachorro()\n",
    "val cat = Gato()\n",
    "\n",
    "WhatIsMe(dog)\n",
    "WhatIsMe(cat)"
   ],
   "metadata": {
    "collapsed": false,
    "ExecuteTime": {
     "end_time": "2024-11-08T15:16:23.104664900Z",
     "start_time": "2024-11-08T15:16:22.968015800Z"
    }
   },
   "outputs": [
    {
     "ename": "org.jetbrains.kotlinx.jupyter.exceptions.ReplCompilerException",
     "evalue": "at Cell In[2], line 1, column 22: Unresolved reference: Animal\nat Cell In[2], line 6, column 13: Unresolved reference: Animal\nat Cell In[2], line 7, column 13: Unresolved reference: Animal\nat Cell In[2], line 9, column 11: Unresolved reference: Cachorro\nat Cell In[2], line 10, column 11: Unresolved reference: Gato",
     "output_type": "error",
     "traceback": [
      "org.jetbrains.kotlinx.jupyter.exceptions.ReplCompilerException: at Cell In[2], line 1, column 22: Unresolved reference: Animal",
      "at Cell In[2], line 6, column 13: Unresolved reference: Animal",
      "at Cell In[2], line 7, column 13: Unresolved reference: Animal",
      "at Cell In[2], line 9, column 11: Unresolved reference: Cachorro",
      "at Cell In[2], line 10, column 11: Unresolved reference: Gato",
      "\tat org.jetbrains.kotlinx.jupyter.repl.impl.JupyterCompilerImpl.compileSync(JupyterCompilerImpl.kt:208)",
      "\tat org.jetbrains.kotlinx.jupyter.repl.impl.InternalEvaluatorImpl.eval(InternalEvaluatorImpl.kt:126)",
      "\tat org.jetbrains.kotlinx.jupyter.repl.impl.CellExecutorImpl$execute$1$result$1.invoke(CellExecutorImpl.kt:80)",
      "\tat org.jetbrains.kotlinx.jupyter.repl.impl.CellExecutorImpl$execute$1$result$1.invoke(CellExecutorImpl.kt:78)",
      "\tat org.jetbrains.kotlinx.jupyter.repl.impl.ReplForJupyterImpl.withHost(ReplForJupyterImpl.kt:742)",
      "\tat org.jetbrains.kotlinx.jupyter.repl.impl.CellExecutorImpl.execute-L4Nmkdk(CellExecutorImpl.kt:78)",
      "\tat org.jetbrains.kotlinx.jupyter.repl.execution.CellExecutor$DefaultImpls.execute-L4Nmkdk$default(CellExecutor.kt:13)",
      "\tat org.jetbrains.kotlinx.jupyter.repl.impl.ReplForJupyterImpl.evaluateUserCode-wNURfNM(ReplForJupyterImpl.kt:565)",
      "\tat org.jetbrains.kotlinx.jupyter.repl.impl.ReplForJupyterImpl.evalExImpl(ReplForJupyterImpl.kt:423)",
      "\tat org.jetbrains.kotlinx.jupyter.repl.impl.ReplForJupyterImpl.access$evalExImpl(ReplForJupyterImpl.kt:139)",
      "\tat org.jetbrains.kotlinx.jupyter.repl.impl.ReplForJupyterImpl$evalEx$1.invoke(ReplForJupyterImpl.kt:416)",
      "\tat org.jetbrains.kotlinx.jupyter.repl.impl.ReplForJupyterImpl$evalEx$1.invoke(ReplForJupyterImpl.kt:415)",
      "\tat org.jetbrains.kotlinx.jupyter.repl.impl.ReplForJupyterImpl.withEvalContext(ReplForJupyterImpl.kt:396)",
      "\tat org.jetbrains.kotlinx.jupyter.repl.impl.ReplForJupyterImpl.evalEx(ReplForJupyterImpl.kt:415)",
      "\tat org.jetbrains.kotlinx.jupyter.messaging.IdeCompatibleMessageRequestProcessor$processExecuteRequest$1$response$1$1.invoke(IdeCompatibleMessageRequestProcessor.kt:170)",
      "\tat org.jetbrains.kotlinx.jupyter.messaging.IdeCompatibleMessageRequestProcessor$processExecuteRequest$1$response$1$1.invoke(IdeCompatibleMessageRequestProcessor.kt:169)",
      "\tat org.jetbrains.kotlinx.jupyter.streams.BlockingSubstitutionEngine.withDataSubstitution(SubstitutionEngine.kt:70)",
      "\tat org.jetbrains.kotlinx.jupyter.streams.StreamSubstitutionManager.withSubstitutedStreams(StreamSubstitutionManager.kt:118)",
      "\tat org.jetbrains.kotlinx.jupyter.messaging.IdeCompatibleMessageRequestProcessor.withForkedIn(IdeCompatibleMessageRequestProcessor.kt:342)",
      "\tat org.jetbrains.kotlinx.jupyter.messaging.IdeCompatibleMessageRequestProcessor.access$withForkedIn(IdeCompatibleMessageRequestProcessor.kt:66)",
      "\tat org.jetbrains.kotlinx.jupyter.messaging.IdeCompatibleMessageRequestProcessor$evalWithIO$1$1.invoke(IdeCompatibleMessageRequestProcessor.kt:356)",
      "\tat org.jetbrains.kotlinx.jupyter.streams.BlockingSubstitutionEngine.withDataSubstitution(SubstitutionEngine.kt:70)",
      "\tat org.jetbrains.kotlinx.jupyter.streams.StreamSubstitutionManager.withSubstitutedStreams(StreamSubstitutionManager.kt:118)",
      "\tat org.jetbrains.kotlinx.jupyter.messaging.IdeCompatibleMessageRequestProcessor.withForkedErr(IdeCompatibleMessageRequestProcessor.kt:331)",
      "\tat org.jetbrains.kotlinx.jupyter.messaging.IdeCompatibleMessageRequestProcessor.access$withForkedErr(IdeCompatibleMessageRequestProcessor.kt:66)",
      "\tat org.jetbrains.kotlinx.jupyter.messaging.IdeCompatibleMessageRequestProcessor$evalWithIO$1.invoke(IdeCompatibleMessageRequestProcessor.kt:355)",
      "\tat org.jetbrains.kotlinx.jupyter.streams.BlockingSubstitutionEngine.withDataSubstitution(SubstitutionEngine.kt:70)",
      "\tat org.jetbrains.kotlinx.jupyter.streams.StreamSubstitutionManager.withSubstitutedStreams(StreamSubstitutionManager.kt:118)",
      "\tat org.jetbrains.kotlinx.jupyter.messaging.IdeCompatibleMessageRequestProcessor.withForkedOut(IdeCompatibleMessageRequestProcessor.kt:323)",
      "\tat org.jetbrains.kotlinx.jupyter.messaging.IdeCompatibleMessageRequestProcessor.evalWithIO(IdeCompatibleMessageRequestProcessor.kt:354)",
      "\tat org.jetbrains.kotlinx.jupyter.messaging.IdeCompatibleMessageRequestProcessor$processExecuteRequest$1$response$1.invoke(IdeCompatibleMessageRequestProcessor.kt:169)",
      "\tat org.jetbrains.kotlinx.jupyter.messaging.IdeCompatibleMessageRequestProcessor$processExecuteRequest$1$response$1.invoke(IdeCompatibleMessageRequestProcessor.kt:168)",
      "\tat org.jetbrains.kotlinx.jupyter.execution.JupyterExecutorImpl$Task.execute(JupyterExecutorImpl.kt:41)",
      "\tat org.jetbrains.kotlinx.jupyter.execution.JupyterExecutorImpl$executorThread$1.invoke(JupyterExecutorImpl.kt:81)",
      "\tat org.jetbrains.kotlinx.jupyter.execution.JupyterExecutorImpl$executorThread$1.invoke(JupyterExecutorImpl.kt:79)",
      "\tat kotlin.concurrent.ThreadsKt$thread$thread$1.run(Thread.kt:30)",
      ""
     ]
    }
   ],
   "execution_count": 2
  },
  {
   "cell_type": "markdown",
   "source": [
    "### Polimorfismo com Interfaces\n",
    "Além da herança, Kotlin também suporta polimorfismo através de interfaces. As interfaces definem um conjunto de métodos que uma classe deve implementar. Isso permite que diferentes classes forneçam implementações específicas para os métodos da interface."
   ],
   "metadata": {
    "collapsed": false
   }
  },
  {
   "cell_type": "code",
   "outputs": [],
   "source": [
    "interface Shape {\n",
    "    fun draw()\n",
    "}\n",
    "\n",
    "class Circle : Shape {\n",
    "    override fun draw() {\n",
    "        println(\"Circle is drawn\")\n",
    "    }\n",
    "}\n",
    "\n",
    "class Rectangle : Shape {\n",
    "    override fun draw() {\n",
    "        println(\"Rectangle is drawn\")\n",
    "    }\n",
    "}"
   ],
   "metadata": {
    "collapsed": false
   },
   "execution_count": null
  },
  {
   "cell_type": "markdown",
   "source": [
    "### Utilização Prática de Interfaces\n",
    "A partir de Kotlin 1.1, pode conter propriedades e métodos com implementação. \n",
    "Suporta implementação múltipla (uma classe pode implementar várias interfaces)"
   ],
   "metadata": {
    "collapsed": false
   }
  },
  {
   "cell_type": "code",
   "source": [
    "interface Veiculo {\n",
    "    val modelo: String\n",
    "    val ano: Int\n",
    "    fun info() {\n",
    "        println(\"Modelo: $modelo, Ano: $ano\")\n",
    "    }\n",
    "}\n",
    "\n",
    "interface Dirigivel {\n",
    "    fun dirigir()\n",
    "}\n",
    "\n",
    "interface Lavavel {\n",
    "    fun lavar()\n",
    "}\n",
    "\n",
    "class Carro(override val modelo: String, override val ano: Int, val portas: Int) : Veiculo, Dirigivel, Lavavel {\n",
    "    override fun dirigir() {\n",
    "        println(\"Dirigindo o carro $modelo\")\n",
    "    }\n",
    "\n",
    "    override fun lavar() {\n",
    "        println(\"Lavando o carro $modelo\")\n",
    "    }\n",
    "}\n",
    "\n",
    "val carro = Carro(\"SUV\", 2029, 5);\n",
    "carro.info()\n",
    "carro.dirigir()"
   ],
   "metadata": {
    "collapsed": false,
    "ExecuteTime": {
     "end_time": "2024-11-08T15:17:26.256386600Z",
     "start_time": "2024-11-08T15:17:25.997385400Z"
    }
   },
   "outputs": [
    {
     "name": "stdout",
     "output_type": "stream",
     "text": [
      "Modelo: SUV, Ano: 2029\r\n",
      "Dirigindo o carro SUV\r\n"
     ]
    }
   ],
   "execution_count": 3
  },
  {
   "metadata": {},
   "cell_type": "markdown",
   "source": [
    "Esses exemplos ilustram como o polimorfismo em Kotlin permite escrever código mais flexível, reutilizável e fácil de entender, promovendo uma programação orientada a objetos eficaz e elegante.\n",
    "\n",
    "### Operador `::` e seu uso prático\n"
   ]
  },
  {
   "metadata": {},
   "cell_type": "code",
   "outputs": [],
   "execution_count": null,
   "source": [
    "class Calculadora {\n",
    "    fun somar(a: Int, b: Int): Int {\n",
    "        return a + b\n",
    "    }\n",
    "}\n",
    "\n",
    "val calculadora = Calculadora()\n",
    "val somaReferencia = calculadora::somar\n",
    "\n",
    "val resultado = somaReferencia(3, 4)  // Usando a referência para chamar o método 'somar'\n",
    "println(\"Resultado da soma: $resultado\")"
   ]
  },
  {
   "metadata": {},
   "cell_type": "code",
   "outputs": [],
   "execution_count": null,
   "source": [
    "interface Comportamento {\n",
    "    fun comunicar()\n",
    "}\n",
    "\n",
    "interface Mortal {\n",
    "    fun morre() {\n",
    "        println(\"Como um ${this::class.simpleName}, eu morri\")\n",
    "    }\n",
    "}\n",
    "\n",
    "abstract class Animal(val nome: String) : Comportamento {\n",
    "    abstract val som: String\n",
    "    fun comer() {\n",
    "        println(\"$nome está comendo.\")\n",
    "    }\n",
    "}\n",
    "\n",
    "class Cachorro(nome: String) : Animal(nome), Mortal {\n",
    "    override val som: String = \"Latido\"\n",
    "\n",
    "    override fun comunicar() {\n",
    "        println(\"$nome faz: $som\")\n",
    "    }\n",
    "}\n",
    "\n",
    "class Gato(nome: String) : Animal(nome), Mortal {\n",
    "    override val som: String = \"Miau\"\n",
    "\n",
    "    override fun comunicar() {\n",
    "        println(\"$nome faz: $som\")\n",
    "    }\n",
    "}\n",
    "\n",
    "val cachorro = Cachorro(\"Rex\")\n",
    "val gato = Gato(\"Whiskers\")\n",
    "\n",
    "cachorro.comer()\n",
    "gato.comer()\n",
    "\n",
    "cachorro.comunicar()\n",
    "gato.comunicar()\n",
    "\n",
    "cachorro.morre()\n",
    "gato.morre()"
   ]
  },
  {
   "cell_type": "markdown",
   "source": [
    "# Typecast\n",
    "### Uso de `is` Kotlin\n",
    "- O operador `is` é usado para verificar o tipo de um objeto.\n",
    "- Retorna true se o objeto for do tipo especificado ou de um subtipo dele.\n",
    "- Se a verificação for verdadeira, o compilador faz type casting inteligente (smart cast), evitando a necessidade de conversão explícita."
   ],
   "metadata": {
    "collapsed": false
   }
  },
  {
   "cell_type": "code",
   "outputs": [],
   "source": [
    "fun verificarTipo(obj: Any) {\n",
    "    if (obj is String) {\n",
    "        // O compilador sabe que obj é String aqui\n",
    "        println(\"O objeto é uma String com comprimento: ${obj.length}\")\n",
    "    } else {\n",
    "        println(\"O objeto não é uma String.\")\n",
    "    }\n",
    "}\n",
    "\n",
    "verificarTipo(\"Olá, Kotlin!\")\n",
    "verificarTipo(123) "
   ],
   "metadata": {
    "collapsed": false
   },
   "execution_count": null
  },
  {
   "cell_type": "markdown",
   "source": [
    "### Operador `as` em Kotlin\n",
    "- O operador as é usado para converter explicitamente um objeto para um tipo específico (type casting).\n",
    "- Se a conversão não for possível, uma exceção ClassCastException será lançada.\n",
    "- Você também pode usar as? para uma conversão segura, que retorna null se a conversão falhar, em vez de lançar uma exceção."
   ],
   "metadata": {
    "collapsed": false
   }
  },
  {
   "cell_type": "code",
   "outputs": [],
   "source": [
    "val objetoConvertido: Tipo = objeto as Tipo\n",
    "val objetoConvertidoSeguro: Tipo? = objeto as? Tipo"
   ],
   "metadata": {
    "collapsed": false
   },
   "execution_count": null
  },
  {
   "cell_type": "markdown",
   "source": "### Operação de Casting entre Classes",
   "metadata": {
    "collapsed": false
   }
  },
  {
   "metadata": {
    "ExecuteTime": {
     "end_time": "2024-11-08T15:21:57.555783700Z",
     "start_time": "2024-11-08T15:21:57.508408300Z"
    }
   },
   "cell_type": "code",
   "source": [
    "val animal: Animal = Gato()\n",
    "val gato: Gato = animal as Gato\n",
    "println(\"Gato convertido com sucesso!\")"
   ],
   "outputs": [
    {
     "ename": "org.jetbrains.kotlinx.jupyter.exceptions.ReplCompilerException",
     "evalue": "at Cell In[4], line 1, column 13: Unresolved reference: Animal\nat Cell In[4], line 1, column 22: Unresolved reference: Gato\nat Cell In[4], line 2, column 11: Unresolved reference: Gato\nat Cell In[4], line 2, column 28: Unresolved reference: Gato",
     "output_type": "error",
     "traceback": [
      "org.jetbrains.kotlinx.jupyter.exceptions.ReplCompilerException: at Cell In[4], line 1, column 13: Unresolved reference: Animal",
      "at Cell In[4], line 1, column 22: Unresolved reference: Gato",
      "at Cell In[4], line 2, column 11: Unresolved reference: Gato",
      "at Cell In[4], line 2, column 28: Unresolved reference: Gato",
      "\tat org.jetbrains.kotlinx.jupyter.repl.impl.JupyterCompilerImpl.compileSync(JupyterCompilerImpl.kt:208)",
      "\tat org.jetbrains.kotlinx.jupyter.repl.impl.InternalEvaluatorImpl.eval(InternalEvaluatorImpl.kt:126)",
      "\tat org.jetbrains.kotlinx.jupyter.repl.impl.CellExecutorImpl$execute$1$result$1.invoke(CellExecutorImpl.kt:80)",
      "\tat org.jetbrains.kotlinx.jupyter.repl.impl.CellExecutorImpl$execute$1$result$1.invoke(CellExecutorImpl.kt:78)",
      "\tat org.jetbrains.kotlinx.jupyter.repl.impl.ReplForJupyterImpl.withHost(ReplForJupyterImpl.kt:742)",
      "\tat org.jetbrains.kotlinx.jupyter.repl.impl.CellExecutorImpl.execute-L4Nmkdk(CellExecutorImpl.kt:78)",
      "\tat org.jetbrains.kotlinx.jupyter.repl.execution.CellExecutor$DefaultImpls.execute-L4Nmkdk$default(CellExecutor.kt:13)",
      "\tat org.jetbrains.kotlinx.jupyter.repl.impl.ReplForJupyterImpl.evaluateUserCode-wNURfNM(ReplForJupyterImpl.kt:565)",
      "\tat org.jetbrains.kotlinx.jupyter.repl.impl.ReplForJupyterImpl.evalExImpl(ReplForJupyterImpl.kt:423)",
      "\tat org.jetbrains.kotlinx.jupyter.repl.impl.ReplForJupyterImpl.access$evalExImpl(ReplForJupyterImpl.kt:139)",
      "\tat org.jetbrains.kotlinx.jupyter.repl.impl.ReplForJupyterImpl$evalEx$1.invoke(ReplForJupyterImpl.kt:416)",
      "\tat org.jetbrains.kotlinx.jupyter.repl.impl.ReplForJupyterImpl$evalEx$1.invoke(ReplForJupyterImpl.kt:415)",
      "\tat org.jetbrains.kotlinx.jupyter.repl.impl.ReplForJupyterImpl.withEvalContext(ReplForJupyterImpl.kt:396)",
      "\tat org.jetbrains.kotlinx.jupyter.repl.impl.ReplForJupyterImpl.evalEx(ReplForJupyterImpl.kt:415)",
      "\tat org.jetbrains.kotlinx.jupyter.messaging.IdeCompatibleMessageRequestProcessor$processExecuteRequest$1$response$1$1.invoke(IdeCompatibleMessageRequestProcessor.kt:170)",
      "\tat org.jetbrains.kotlinx.jupyter.messaging.IdeCompatibleMessageRequestProcessor$processExecuteRequest$1$response$1$1.invoke(IdeCompatibleMessageRequestProcessor.kt:169)",
      "\tat org.jetbrains.kotlinx.jupyter.streams.BlockingSubstitutionEngine.withDataSubstitution(SubstitutionEngine.kt:70)",
      "\tat org.jetbrains.kotlinx.jupyter.streams.StreamSubstitutionManager.withSubstitutedStreams(StreamSubstitutionManager.kt:118)",
      "\tat org.jetbrains.kotlinx.jupyter.messaging.IdeCompatibleMessageRequestProcessor.withForkedIn(IdeCompatibleMessageRequestProcessor.kt:342)",
      "\tat org.jetbrains.kotlinx.jupyter.messaging.IdeCompatibleMessageRequestProcessor.access$withForkedIn(IdeCompatibleMessageRequestProcessor.kt:66)",
      "\tat org.jetbrains.kotlinx.jupyter.messaging.IdeCompatibleMessageRequestProcessor$evalWithIO$1$1.invoke(IdeCompatibleMessageRequestProcessor.kt:356)",
      "\tat org.jetbrains.kotlinx.jupyter.streams.BlockingSubstitutionEngine.withDataSubstitution(SubstitutionEngine.kt:70)",
      "\tat org.jetbrains.kotlinx.jupyter.streams.StreamSubstitutionManager.withSubstitutedStreams(StreamSubstitutionManager.kt:118)",
      "\tat org.jetbrains.kotlinx.jupyter.messaging.IdeCompatibleMessageRequestProcessor.withForkedErr(IdeCompatibleMessageRequestProcessor.kt:331)",
      "\tat org.jetbrains.kotlinx.jupyter.messaging.IdeCompatibleMessageRequestProcessor.access$withForkedErr(IdeCompatibleMessageRequestProcessor.kt:66)",
      "\tat org.jetbrains.kotlinx.jupyter.messaging.IdeCompatibleMessageRequestProcessor$evalWithIO$1.invoke(IdeCompatibleMessageRequestProcessor.kt:355)",
      "\tat org.jetbrains.kotlinx.jupyter.streams.BlockingSubstitutionEngine.withDataSubstitution(SubstitutionEngine.kt:70)",
      "\tat org.jetbrains.kotlinx.jupyter.streams.StreamSubstitutionManager.withSubstitutedStreams(StreamSubstitutionManager.kt:118)",
      "\tat org.jetbrains.kotlinx.jupyter.messaging.IdeCompatibleMessageRequestProcessor.withForkedOut(IdeCompatibleMessageRequestProcessor.kt:323)",
      "\tat org.jetbrains.kotlinx.jupyter.messaging.IdeCompatibleMessageRequestProcessor.evalWithIO(IdeCompatibleMessageRequestProcessor.kt:354)",
      "\tat org.jetbrains.kotlinx.jupyter.messaging.IdeCompatibleMessageRequestProcessor$processExecuteRequest$1$response$1.invoke(IdeCompatibleMessageRequestProcessor.kt:169)",
      "\tat org.jetbrains.kotlinx.jupyter.messaging.IdeCompatibleMessageRequestProcessor$processExecuteRequest$1$response$1.invoke(IdeCompatibleMessageRequestProcessor.kt:168)",
      "\tat org.jetbrains.kotlinx.jupyter.execution.JupyterExecutorImpl$Task.execute(JupyterExecutorImpl.kt:41)",
      "\tat org.jetbrains.kotlinx.jupyter.execution.JupyterExecutorImpl$executorThread$1.invoke(JupyterExecutorImpl.kt:81)",
      "\tat org.jetbrains.kotlinx.jupyter.execution.JupyterExecutorImpl$executorThread$1.invoke(JupyterExecutorImpl.kt:79)",
      "\tat kotlin.concurrent.ThreadsKt$thread$thread$1.run(Thread.kt:30)",
      ""
     ]
    }
   ],
   "execution_count": 4
  },
  {
   "metadata": {},
   "cell_type": "markdown",
   "source": "### Exemplo de Safe Cast e Unsafe Cast "
  },
  {
   "metadata": {
    "ExecuteTime": {
     "end_time": "2024-11-08T15:22:57.463718400Z",
     "start_time": "2024-11-08T15:22:57.241397800Z"
    }
   },
   "cell_type": "code",
   "source": [
    "try {\n",
    "    val obj: Any = '4';\n",
    "    val str = obj as String;\n",
    "\n",
    "    println(\"Conversão bem-sucedida: $str\");\n",
    "} catch (e: ClassCastException) {\n",
    "    println(\"O objeto não pôde ser convertido para String.\");\n",
    "}"
   ],
   "outputs": [
    {
     "name": "stdout",
     "output_type": "stream",
     "text": [
      "O objeto não pôde ser convertido para String.\r\n"
     ]
    }
   ],
   "execution_count": 5
  },
  {
   "metadata": {},
   "cell_type": "code",
   "outputs": [],
   "execution_count": null,
   "source": [
    "val obj: Any = '4';\n",
    "val str = obj as? String;\n",
    "\n",
    "if (str != null) {\n",
    "    println(\"Conversão bem-sucedida: $str\");\n",
    "} else {\n",
    "    println(\"O objeto não pôde ser convertido para String.\");\n",
    "}"
   ]
  },
  {
   "metadata": {},
   "cell_type": "code",
   "outputs": [],
   "execution_count": null,
   "source": [
    "val obj: Any = '4';\n",
    "val str = obj.toString();\n",
    "\n",
    "if (str is String) {\n",
    "    println(\"Conversão bem-sucedida: $str\");\n",
    "} else {\n",
    "    println(\"O objeto não pôde ser convertido para String.\");\n",
    "}"
   ]
  },
  {
   "metadata": {},
   "cell_type": "markdown",
   "source": [
    "### Exemplo de uso geral\n",
    "Vamos ilustrar o uso desses operadores com um exemplo que verifica o tipo de um objeto e o converte para um tipo específico:\n",
    "Neste exemplo, iteramos sobre uma lista de objetos de diferentes tipos (String, Int, Double, e Boolean). Utilizamos o operador `is` para verificar o tipo de cada item e agir de acordo. Também demonstramos como usar o `as` para tentar converter um item para String de forma segura, evitando uma possível ClassCastException."
   ]
  },
  {
   "metadata": {
    "ExecuteTime": {
     "end_time": "2024-11-08T15:23:32.645964500Z",
     "start_time": "2024-11-08T15:23:31.688270400Z"
    }
   },
   "cell_type": "code",
   "source": [
    "val lista: List<Any> = listOf(\"Kotlin\", 42, 3.14, true, listOf(1, 2, 3))\n",
    "\n",
    "for (item in lista) {\n",
    "    when (item) {\n",
    "        is String -> {\n",
    "            println(\"$item é uma String com tamanho ${item.length}\")\n",
    "            println(\"'${item.toUpperCase()}' é a versão em maiúsculas\")\n",
    "        }\n",
    "        is Int -> println(\"$item é um Int (dobrado: ${item * 2})\")\n",
    "        is Double -> println(\"$item é um Double (arredondado: ${\"%.2f\".format(item)})\")\n",
    "        is List<*> -> {\n",
    "            // Usando 'as?' para converter a lista para uma lista de inteiros\n",
    "            val intList = item as? List<Int>\n",
    "            if (intList != null) {\n",
    "                println(\"Lista de inteiros: $intList, soma: ${intList.sum()}\")\n",
    "            } else {\n",
    "                println(\"Lista de elementos não inteiros: $item\")\n",
    "            }\n",
    "        }\n",
    "        else -> println(\"$item é de um tipo não identificado\")\n",
    "    }\n",
    "}"
   ],
   "outputs": [
    {
     "name": "stdout",
     "output_type": "stream",
     "text": [
      "Kotlin é uma String com tamanho 6\r\n",
      "'KOTLIN' é a versão em maiúsculas\r\n",
      "42 é um Int (dobrado: 84)\r\n",
      "3.14 é um Double (arredondado: 3,14)\r\n",
      "true é de um tipo não identificado\r\n",
      "Lista de inteiros: [1, 2, 3], soma: 6\r\n"
     ]
    }
   ],
   "execution_count": 6
  }
 ],
 "metadata": {
  "kernelspec": {
   "display_name": "Kotlin",
   "language": "kotlin",
   "name": "kotlin"
  },
  "language_info": {
   "name": "kotlin",
   "version": "1.9.0",
   "mimetype": "text/x-kotlin",
   "file_extension": ".kt",
   "pygments_lexer": "kotlin",
   "codemirror_mode": "text/x-kotlin",
   "nbconvert_exporter": ""
  }
 },
 "nbformat": 4,
 "nbformat_minor": 0
}
